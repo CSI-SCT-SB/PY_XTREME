{
  "nbformat": 4,
  "nbformat_minor": 0,
  "metadata": {
    "colab": {
      "provenance": [],
      "authorship_tag": "ABX9TyMcRuSNm7vhXf05G/jkBXOO",
      "include_colab_link": true
    },
    "kernelspec": {
      "name": "python3",
      "display_name": "Python 3"
    },
    "language_info": {
      "name": "python"
    }
  },
  "cells": [
    {
      "cell_type": "markdown",
      "metadata": {
        "id": "view-in-github",
        "colab_type": "text"
      },
      "source": [
        "<a href=\"https://colab.research.google.com/github/azhiif/PY_XTREME/blob/main/ashif_numpy.ipynb\" target=\"_parent\"><img src=\"https://colab.research.google.com/assets/colab-badge.svg\" alt=\"Open In Colab\"/></a>"
      ]
    },
    {
      "cell_type": "code",
      "execution_count": 1,
      "metadata": {
        "colab": {
          "base_uri": "https://localhost:8080/"
        },
        "id": "2vwgNo0z1pPp",
        "outputId": "eb80f009-c34c-40fe-f5e5-205d84344ee7"
      },
      "outputs": [
        {
          "output_type": "stream",
          "name": "stdout",
          "text": [
            "[[ 2  2 15 30 42]\n",
            " [ 2  2 15 30 42]]\n",
            "\n",
            "No. of dimensions of the array:  2\n",
            "\n",
            "Shape of the array:  (2, 5)\n",
            "\n",
            "[[1 2 3 5 6]\n",
            " [3 1 4 5 1]]\n",
            "\n",
            "[[0. 0. 0. 0.]\n",
            " [0. 0. 0. 0.]\n",
            " [0. 0. 0. 0.]]\n"
          ]
        }
      ],
      "source": [
        "#importing numpy \n",
        "import numpy as x \n",
        "\n",
        "#making a array1\n",
        "array1 = x.array([ \n",
        "     [1, 2, 3, 5, 6],\n",
        "    [2, 1, 5, 6, 7]\n",
        "])\n",
        "\n",
        "#making a array2\n",
        "array2 = x.array([\n",
        "    [2, 1, 5, 6, 7],\n",
        "    [1, 2, 3, 5, 6]\n",
        "])\n",
        "\n",
        "#printing product of 2 array\n",
        "print(array1*array2)\n",
        "\n",
        "#print a new line\n",
        "print()\n",
        "\n",
        "#showing dimention of array1 \n",
        "print(\"No. of dimensions of the array: \", array1.ndim)\n",
        "\n",
        "##print a new line\n",
        "print()\n",
        "\n",
        "#showing shape of array1 \n",
        "print(\"Shape of the array: \", array1.shape)\n",
        "\n",
        "#print a new line\n",
        "print()\n",
        "\n",
        "#making some list of number\n",
        "list1 = [1, 2, 3, 5, 6]\n",
        "list2 = [3, 1, 4, 5, 1]\n",
        "\n",
        "#combining 2 list as a single array named array3\n",
        "array3 = x.array(\n",
        "    [list1, list2]\n",
        ")\n",
        "\n",
        "#printing new made array3\n",
        "print(array3)\n",
        "\n",
        "##print a new line\n",
        "print()\n",
        "\n",
        "#making a array of zeros with dimension 3,4 and printing it\n",
        "array4 = x.zeros((3, 4))\n",
        "print(array4)\n"
      ]
    }
  ]
}