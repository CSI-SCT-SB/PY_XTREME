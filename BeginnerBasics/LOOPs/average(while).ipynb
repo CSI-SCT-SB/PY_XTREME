{
  "nbformat": 4,
  "nbformat_minor": 0,
  "metadata": {
    "colab": {
      "provenance": [],
      "authorship_tag": "ABX9TyO/v9YXd/bHNvjs6hdIcfGW",
      "include_colab_link": true
    },
    "kernelspec": {
      "name": "python3",
      "display_name": "Python 3"
    },
    "language_info": {
      "name": "python"
    }
  },
  "cells": [
    {
      "cell_type": "markdown",
      "metadata": {
        "id": "view-in-github",
        "colab_type": "text"
      },
      "source": [
        "<a href=\"https://colab.research.google.com/github/rxhith/PY_XTREME/blob/main/PY_XTREME/BeginnerBasics/LOOPs/average(while).ipynb\" target=\"_parent\"><img src=\"https://colab.research.google.com/assets/colab-badge.svg\" alt=\"Open In Colab\"/></a>"
      ]
    },
    {
      "cell_type": "code",
      "execution_count": 1,
      "metadata": {
        "colab": {
          "base_uri": "https://localhost:8080/"
        },
        "id": "vz6xprnhug00",
        "outputId": "addce81d-08a4-462c-c90a-a81117b51192"
      },
      "outputs": [
        {
          "output_type": "stream",
          "name": "stdout",
          "text": [
            "Enter the number 55\n",
            "Enter the number 2\n",
            "Enter the number 4\n",
            "Enter the number 4\n",
            "Enter the number 3\n",
            "Average of given Numbers: 13.6\n"
          ]
        }
      ],
      "source": [
        "tot_count = 5\n",
        "sum = 0\n",
        "count = 0\n",
        "\n",
        "while tot_count > 0:\n",
        "    count += 1\n",
        "    f = int(input(\"Enter the number \"))\n",
        "    sum += f\n",
        "    tot_count-= 1\n",
        "  \n",
        "average = sum/count\n",
        "print(\"Average of given Numbers:\",average)24"
      ]
    }
  ]
}
